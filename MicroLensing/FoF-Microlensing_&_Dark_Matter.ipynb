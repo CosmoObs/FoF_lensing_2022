{
  "cells": [
    {
      "cell_type": "markdown",
      "source": [
        "Librerias útiles"
      ],
      "metadata": {
        "id": "Gd7-MvJ8FBrc"
      },
      "id": "Gd7-MvJ8FBrc"
    },
    {
      "cell_type": "code",
      "execution_count": 26,
      "id": "8fee3860",
      "metadata": {
        "id": "8fee3860",
        "colab": {
          "base_uri": "https://localhost:8080/"
        },
        "outputId": "8705c75d-3ac9-425a-aa98-de5fc1a22294"
      },
      "outputs": [
        {
          "name": "stdout",
          "output_type": "stream",
          "text": [
            "Once deleted, variables cannot be recovered. Proceed (y/[n])? y\n"
          ]
        }
      ],
      "source": [
        "import numpy as np\n",
        "#para las unidades\n",
        "from astropy import units as u\n",
        "from astropy import constants as C\n",
        "#para graficar\n",
        "import matplotlib.pyplot as plt\n",
        "#barras de avance\n",
        "from tqdm.auto import tqdm\n",
        "#integracion\n",
        "import scipy.integrate as integrate\n",
        "from scipy.integrate import simps"
      ]
    },
    {
      "cell_type": "markdown",
      "id": "3e469778",
      "metadata": {
        "id": "3e469778"
      },
      "source": [
        "#Tasa de eventos diferencial \n",
        "se deduce como la distribucion de duración de eventos de microlente \n",
        "\\begin{equation}\n",
        "    \\frac{d\\Gamma}{d\\hat{t}}= 2D_S \\int_{0}^{1}dx \\frac{\\rho(x)}{Mv_c^2}v_E^4 \\, \\exp{\\left(-\\frac{v_E^2}{v_c^2}\\right)}\n",
        "\\end{equation}\n",
        "\n",
        "El perfil que describa a los objetos del halo de la galaxia vendra dado por uno de esfera isótropo, isotermo y no singular de la siguiente forma\n",
        "\\begin{equation}\n",
        "    \\rho_{isot}(R) = \\rho_{\\odot} \\frac{R_{Sol}^2+R_C^2}{R_C^2+R^2} \\,,\n",
        "\\end{equation}\n",
        "con $\\rho_{\\odot} = 0.0097M_{\\odot}\\text{pc}^{-3}$,  $R_C= 5$kpc el radio del core de la galaxia y $R_{Sol}=8.5$ kpc la distancia del Sol al centro de la galaxia.\n",
        "\n",
        "Por otro lado, $v_E = R_E(x)/t_E$"
      ]
    },
    {
      "cell_type": "markdown",
      "id": "9e438b87",
      "metadata": {
        "id": "9e438b87"
      },
      "source": [
        "Defino algunas funciones para calcular la tasa de eventos diferencial"
      ]
    },
    {
      "cell_type": "code",
      "execution_count": 27,
      "id": "8f465c4d",
      "metadata": {
        "id": "8f465c4d"
      },
      "outputs": [],
      "source": [
        "def rE(m, x, D):\n",
        "    ''' \n",
        "    Radio de Einstein.\n",
        "    Entradas:\n",
        "    m: masa de la lente.\n",
        "    x: D_OL/D distancia a la lente normalizada por la distancia a la fuente.\n",
        "    D: Distancia a la fuente.\n",
        "    '''\n",
        "    arg = (4*C.G*(m*C.M_sun)*(D*u.kpc)*x*(1-x)/(C.c**2)).decompose()\n",
        "    rE = np.sqrt(abs(arg)).decompose()\n",
        "    return rE\n",
        "\n",
        "def r(x):\n",
        "    '''\n",
        "    Distancia a la fuente.\n",
        "    Entradas:\n",
        "    x: D_OL/D distancia a la lente normalizada por la distancia a la fuente.\n",
        "    '''\n",
        "    R0 = 8.5*u.kpc\n",
        "    L = 50*u.kpc\n",
        "    b, l = -32.8*(np.pi/180), 281*(np.pi/180)\n",
        "    return np.sqrt((x*L)**2 +(R0)**2 - 2*R0*L*x*np.cos(b)*np.cos(l))\n",
        "\n",
        "def rho(x):\n",
        "    '''\n",
        "    Perfil de esfera isoterma para los objetos del halo de la galaxia.\n",
        "    '''\n",
        "    R0 = 8.5*u.kpc\n",
        "    Rc = 5*u.kpc\n",
        "    return (0.0079*(R0**2+Rc**2)/(r(x)**2+Rc**2)*C.M_sun/u.pc**3).decompose()\n",
        "\n",
        "def integrand(x,t,m):\n",
        "    '''\n",
        "    Integrando de la tasa de eventos diferencial.\n",
        "    El objetivo será La Gran Nube de Magallanes.\n",
        "    '''\n",
        "    vc=220*u.km/u.s\n",
        "    d = 50 #kpc\n",
        "    D =d*u.kpc\n",
        "    Q = ((4*rE(m,x,d)**2)/(t*u.year*vc)**2).decompose()\n",
        "    exp_fac = np.exp(-Q)\n",
        "    factor = 32*D/((m*C.M_sun)*(t*u.year)**4 * vc**2)\n",
        "    return ((factor)*rho(x)*exp_fac*rE(m,x,d)**4*u.year**2).decompose()\n",
        "\n",
        "def event_rate(t,m):\n",
        "    '''\n",
        "    Tasa de eventos diferencial.\n",
        "    '''\n",
        "    return integrate.fixed_quad(lambda x: integrand(x,t,m), 0, 1,n=1000)[0]\n"
      ]
    },
    {
      "cell_type": "code",
      "execution_count": 28,
      "id": "522b1cb4",
      "metadata": {
        "id": "522b1cb4"
      },
      "outputs": [],
      "source": [
        "t_hat = np.logspace(-10, 4, 100)\n",
        "m     = [1e-2,1e-1,1]  #masas de las lentes"
      ]
    },
    {
      "cell_type": "code",
      "execution_count": 29,
      "id": "dd18710a",
      "metadata": {
        "id": "dd18710a",
        "outputId": "baa31005-34a1-499e-e97c-dc1ee53a78a1",
        "colab": {
          "base_uri": "https://localhost:8080/",
          "height": 49,
          "referenced_widgets": [
            "af8ac5ad5cd7415493c91838d20dcc56",
            "93b5d811f745466f90065924c28b491d",
            "d5672a4885ae4c4184f7e020bd5c30b8",
            "95645438a6b649cb93f4bb4b0686f337",
            "b93fda2888b9409a952238e0df689165",
            "9314c4fc236b489ea57aa77627dcfd85",
            "f9c0400663dc4332bc1194773b61401f",
            "51340beb7bb546afad67cc4f5a1432ba",
            "d07649426b68437d94b976c2a1daf7de",
            "4952f101b91746998a745d377e36e650",
            "9f59a8e87619454d93333e48241328da"
          ]
        }
      },
      "outputs": [
        {
          "output_type": "display_data",
          "data": {
            "text/plain": [
              "  0%|          | 0/3 [00:00<?, ?it/s]"
            ],
            "application/vnd.jupyter.widget-view+json": {
              "version_major": 2,
              "version_minor": 0,
              "model_id": "af8ac5ad5cd7415493c91838d20dcc56"
            }
          },
          "metadata": {}
        }
      ],
      "source": [
        "rates = np.zeros([len(t_hat),len(m)])\n",
        "for j in tqdm(range(len(m))):\n",
        "    for i in range(len(t_hat)):\n",
        "        rates[i,j] = event_rate(t_hat[i],m[j])"
      ]
    },
    {
      "cell_type": "code",
      "execution_count": 30,
      "id": "31ae3126",
      "metadata": {
        "id": "31ae3126",
        "outputId": "de21b23d-870d-4610-e7c2-804b4b2acaf6",
        "colab": {
          "base_uri": "https://localhost:8080/",
          "height": 431
        },
        "cellView": "form"
      },
      "outputs": [
        {
          "output_type": "execute_result",
          "data": {
            "text/plain": [
              "<matplotlib.legend.Legend at 0x7ff985cedb50>"
            ]
          },
          "metadata": {},
          "execution_count": 30
        },
        {
          "output_type": "display_data",
          "data": {
            "text/plain": [
              "<Figure size 576x432 with 1 Axes>"
            ],
            "image/png": "[encoded data removed]"
          },
          "metadata": {
            "needs_background": "light"
          }
        }
      ],
      "source": [
        "#@title Los maximos corresponden a la duración de eventos más probables.\n",
        "plt.figure(figsize=(8,6))\n",
        "ax = plt.axes()\n",
        "plt.ylim(1e-8,1)\n",
        "plt.xlim(1e-5,1e2)\n",
        "\n",
        "plt.loglog(t_hat, rates[:,0], lw=3, label=str(round(m[0],2))+r'$M_{\\odot}$')\n",
        "plt.loglog(t_hat, rates[:,1], lw=3,label=str(round(m[1],2))+r'$M_{\\odot}$')\n",
        "plt.loglog(t_hat, rates[:,2], lw=3,label=str(round(m[2],2))+r'$M_{\\odot}$')\n",
        "\n",
        "plt.ylabel(r'$\\frac{d\\Gamma}{dt_E}(events/year/year)$',fontsize=15)\n",
        "plt.xlabel(r'$t_E [days]$',fontsize=15)\n",
        "plt.xticks(fontsize=15)\n",
        "plt.yticks(fontsize=15)\n",
        "plt.legend(loc='best' ,fontsize=15)"
      ]
    },
    {
      "cell_type": "markdown",
      "id": "18a85d15",
      "metadata": {
        "id": "18a85d15"
      },
      "source": [
        "# La eficiencia es la probabilidad de detectar un evento de microlente.\n",
        "\n",
        "Eficiencia que se va a utilizar, puede ser una asociada a una observación de mas de 400 dias. \n"
      ]
    },
    {
      "cell_type": "code",
      "execution_count": 31,
      "id": "b9dabfa5",
      "metadata": {
        "id": "b9dabfa5",
        "outputId": "441b813b-c943-4e05-e8cc-ffab6064f196",
        "colab": {
          "base_uri": "https://localhost:8080/",
          "height": 441
        }
      },
      "outputs": [
        {
          "output_type": "execute_result",
          "data": {
            "text/plain": [
              "(array([-0.2,  0. ,  0.2,  0.4,  0.6,  0.8,  1. ,  1.2]),\n",
              " <a list of 8 Text major ticklabel objects>)"
            ]
          },
          "metadata": {},
          "execution_count": 31
        },
        {
          "output_type": "display_data",
          "data": {
            "text/plain": [
              "<Figure size 576x432 with 1 Axes>"
            ],
            "image/png": "[encoded data removed]"
          },
          "metadata": {
            "needs_background": "light"
          }
        }
      ],
      "source": [
        "tE = np.linspace(0,365*2,500)\n",
        "\n",
        "ef = [] \n",
        "for t in tE:\n",
        "    if t<1e-2:\n",
        "        ef.append(0)\n",
        "    elif t>400:\n",
        "        ef.append(0)\n",
        "    else:\n",
        "        ef.append(1)\n",
        "plt.figure(figsize=(8,6))\n",
        "plt.xlim(-10,500)\n",
        "plt.plot(tE, ef, '-',color='red',lw=2)\n",
        "plt.ylabel(r'$Eficiencia$',fontsize=20)\n",
        "plt.xlabel(r'$t_E [días]$',fontsize=20)\n",
        "plt.xticks(fontsize=15)\n",
        "plt.yticks(fontsize=15)\n"
      ]
    },
    {
      "cell_type": "markdown",
      "id": "9348613c",
      "metadata": {
        "id": "9348613c"
      },
      "source": [
        "#Numero esperado de eventos\n",
        "\n",
        "Integrando la tasa de eventos junto a la eficiencia, para todos los tiempos de cruce de Einstein posibles, y\n",
        "considerando el número de estrellas observadas, se consigue el número esperado de eventos\n",
        "\\begin{equation}\n",
        "    N_{exp} = E\\int_0^{\\infty} \\mathcal{E}(\\hat{t})\\frac{d\\Gamma}{d\\hat{t}}d\\hat{t} \n",
        "\\end{equation}\n",
        "Aquí $\\mathcal{E}(\\hat{t})$ es la eficiencia de detección, la cual, como se mencionó previamente, da la probabilidad de que en una observación particular se detecte un evento de microlente. $E=N_{\\text{estrellas}} \\times T_{\\text{observación}}$ es la exposición, o sea, el número total de estrellas monitoreadas en un cierto tiempo (i.e. para las cuales se puede obtener la curva de luz). Para EROS-2 la exposición es $E_{LMC}=10^{7}$ estrellas-años."
      ]
    },
    {
      "cell_type": "code",
      "execution_count": 32,
      "id": "e0e11d61",
      "metadata": {
        "id": "e0e11d61",
        "outputId": "0a44469f-0746-47d3-bf7e-0b68ac82fae2",
        "colab": {
          "referenced_widgets": [
            "df9f35cd736f4aef9f8c91e58b93b859",
            "482130c3590f455ba1696f81531ce1e9",
            "95246493453e402fa4ada98ed3640035",
            "b9eab4e9fae54b63bee80f8e20160ce1",
            "07a0a13f54bb4c4a9170d45d3eb2f7c8",
            "4d24865bbbce4454b3d2ff956bea0693",
            "c2d92eb7f1a24c708d29db26fd777f1c",
            "cb363e394a684aaca4d2b1584bbf8699",
            "18356abff4d849c390a9ce6e6388c522",
            "e551cbaac4ed418baba12be75e923d34",
            "4b0e7de8d2be45c9ab026d48ab3dd26e"
          ],
          "base_uri": "https://localhost:8080/",
          "height": 49
        }
      },
      "outputs": [
        {
          "output_type": "display_data",
          "data": {
            "text/plain": [
              "  0%|          | 0/100 [00:00<?, ?it/s]"
            ],
            "application/vnd.jupyter.widget-view+json": {
              "version_major": 2,
              "version_minor": 0,
              "model_id": "df9f35cd736f4aef9f8c91e58b93b859"
            }
          },
          "metadata": {}
        }
      ],
      "source": [
        "t_hat = np.logspace(-10, 4,100)\n",
        "M     = np.logspace(-10,10,100)\n",
        "\n",
        "N = []\n",
        "rates_int = np.zeros([len(t_hat),len(M)])\n",
        "for j in tqdm(range(len(M))):\n",
        "    for i in range(len(t_hat)):\n",
        "        if t_hat[i]<1e-2:\n",
        "            rates_int[i,j] = 0\n",
        "        elif t_hat[i]>400:\n",
        "            rates_int[i,j] = 0\n",
        "        else:\n",
        "            rates_int[i,j] = event_rate(t_hat[i],M[j])\n",
        "    Nexp = simps(rates_int[:,j], t_hat)\n",
        "    N.append(Nexp)\n",
        "N = np.array(N)"
      ]
    },
    {
      "cell_type": "code",
      "execution_count": 33,
      "id": "af351529",
      "metadata": {
        "id": "af351529",
        "outputId": "84e40b5e-c28d-4232-cac1-8197600909e9",
        "colab": {
          "base_uri": "https://localhost:8080/",
          "height": 417
        }
      },
      "outputs": [
        {
          "output_type": "execute_result",
          "data": {
            "text/plain": [
              "Text(0, 0.5, 'N exp')"
            ]
          },
          "metadata": {},
          "execution_count": 33
        },
        {
          "output_type": "display_data",
          "data": {
            "text/plain": [
              "<Figure size 576x432 with 1 Axes>"
            ],
            "image/png": "[encoded data removed]"
          },
          "metadata": {
            "needs_background": "light"
          }
        }
      ],
      "source": [
        "E =1e+6 #exposure (star-years)\n",
        "plt.figure(figsize=(8,6))\n",
        "plt.xlim(1e-5,1e1)\n",
        "plt.semilogx(M,E*N, lw=2)\n",
        "plt.xlabel(r'Masa $[M_{\\odot}]$', fontsize=15)\n",
        "plt.ylabel(r'N exp', fontsize=15)"
      ]
    },
    {
      "cell_type": "markdown",
      "id": "d6f255d1",
      "metadata": {
        "id": "d6f255d1"
      },
      "source": [
        "#Limites en la fracción de materia oscura que pueden ser PBH\n",
        "El método para obtener las cotas sobre la fracción de materia oscura que pueden ser PBH (DCO) se hace, suponiendo que los eventos detectados siguen una distribución de Poisson.\n",
        "\n",
        "La probabilidad de observar un número $N_{obs}$ de eventos de microlente debido a DCO, sabiendo que $N_{exp}$ es el número de veces que se espera que ocurra el evento es\n",
        "\\begin{equation}\n",
        "    P(N_{obs}|N_{exp}) = \\frac{(N_{exp})^{N_{obs}}}{N_{obs}!}e^{-N_{exp}}\\,.\n",
        "\\end{equation}\n",
        "El número de eventos que contribuirán a los eventos producidos por objetos oscuros compactos del halo será una fracción del total $N_{exp}$, que fue el calculado en la sección anterior\n",
        "\\begin{equation}\n",
        "    N_{exp}^{PBH} = f_{DM}N_{exp} \\,.\n",
        "\\end{equation}\n",
        "Dicho de otra forma, $f_{DM}$ es la fracción de la materia oscura que estará en la forma de DCO y se puede escribir como $f_{DM} = \\frac{\\Omega_{DCO}}{\\Omega_{DM}}$, donde $\\Omega_{DCO}$ es la fracción cosmológica de materia oscura en la forma objetos oscuros compactos y $\\Omega_{DM}$ es la fracción total de materia oscura. \n",
        " \n",
        "A partir de la estimación del número esperado de eventos para cada masa se calcula la fracción más grande del halo en forma de objetos compactos que sea un $95\\%$ compatible con la detección de $k$ eventos. Entonces, uno puede excluir la región de parámetros haciendo\n",
        "\\begin{equation}\n",
        "    \\sum_{k=0}^{N_{obs}} P(k|N_{exp}^{PBH})<0.05\n",
        "\\end{equation}\n",
        "con un dado $N_{obs}$ correspondiente al $95\\%$ de nivel de confianza.\n",
        "\n",
        "Suponiendo que la observacion a LMC no detecto ningun evento asociado a un PBH el cual fue el caso EROS-2, un survey que realizó observaciones hacia LMC. Ese experimento no detectó ningún evento. La probabilidad de que eso ocurra es\n",
        "\\begin{equation}\n",
        "    P(0|N_{exp}^{PBH}) = e^{-f_{DM}N_{exp}}.\n",
        "\\end{equation}\n",
        "Los límites sobre $f_{DM}$ se obtienen pidiendo que $f_{DM}>f_{95CL}$ lo que implica que $P(0|N_{exp}^{PBH})<0.05$. Esta condición excluye $N_{exp}^{PBH}\\gtrsim 3$ con un 95$\\%$CL. Entonces calculamos el valor para el cual $f_{DM}=f_{95CL}$, en el caso de no haber observado eventos\n",
        "\\begin{equation}\n",
        "    f_{95CL} = \\frac{-\\ln(0.05)}{N_{exp}} \\approx \\frac{3.0}{N_{exp}}.\n",
        "\\end{equation}\n"
      ]
    },
    {
      "cell_type": "code",
      "execution_count": 34,
      "id": "dacdb731",
      "metadata": {
        "id": "dacdb731",
        "outputId": "628fa5ff-9d01-4fea-f2d1-dd85c67c6f23",
        "colab": {
          "base_uri": "https://localhost:8080/",
          "height": 423
        }
      },
      "outputs": [
        {
          "output_type": "execute_result",
          "data": {
            "text/plain": [
              "Text(0, 0.5, '$f=\\\\frac{\\\\Omega_{PBH}}{\\\\Omega_{DM}}$')"
            ]
          },
          "metadata": {},
          "execution_count": 34
        },
        {
          "output_type": "display_data",
          "data": {
            "text/plain": [
              "<Figure size 576x432 with 1 Axes>"
            ],
            "image/png": "[encoded data removed]"
          },
          "metadata": {
            "needs_background": "light"
          }
        }
      ],
      "source": [
        "plt.figure(figsize=(8,6))\n",
        "plt.ylim(1e-2,1)\n",
        "plt.xlim(1e-5,1e1)\n",
        "plt.loglog(M,3.0/(E*N),color='red')\n",
        "plt.fill_between(M,3/(E*N),1,color='red', alpha=0.15)\n",
        "plt.xlabel(r'Masa [$M_{\\odot}$]', fontsize =15)\n",
        "plt.ylabel(r'$f=\\frac{\\Omega_{PBH}}{\\Omega_{DM}}$', fontsize =15)"
      ]
    }
  ],
  "metadata": {
    "kernelspec": {
      "display_name": "Python 3",
      "language": "python",
      "name": "python3"
    },
    "language_info": {
      "codemirror_mode": {
        "name": "ipython",
        "version": 3
      },
      "file_extension": ".py",
      "mimetype": "text/x-python",
      "name": "python",
      "nbconvert_exporter": "python",
      "pygments_lexer": "ipython3",
      "version": "3.9.5"
    },
    "colab": {
      "name": "FoF-Microlensing_&_Dark_Matter.ipynb",
      "provenance": []
    },
    "widgets": {
      "application/vnd.jupyter.widget-state+json": {
        "af8ac5ad5cd7415493c91838d20dcc56": {
          "model_module": "@jupyter-widgets/controls",
          "model_name": "HBoxModel",
          "model_module_version": "1.5.0",
          "state": {
            "_dom_classes": [],
            "_model_module": "@jupyter-widgets/controls",
            "_model_module_version": "1.5.0",
            "_model_name": "HBoxModel",
            "_view_count": null,
            "_view_module": "@jupyter-widgets/controls",
            "_view_module_version": "1.5.0",
            "_view_name": "HBoxView",
            "box_style": "",
            "children": [
              "IPY_MODEL_93b5d811f745466f90065924c28b491d",
              "IPY_MODEL_d5672a4885ae4c4184f7e020bd5c30b8",
              "IPY_MODEL_95645438a6b649cb93f4bb4b0686f337"
            ],
            "layout": "IPY_MODEL_b93fda2888b9409a952238e0df689165"
          }
        },
        "93b5d811f745466f90065924c28b491d": {
          "model_module": "@jupyter-widgets/controls",
          "model_name": "HTMLModel",
          "model_module_version": "1.5.0",
          "state": {
            "_dom_classes": [],
            "_model_module": "@jupyter-widgets/controls",
            "_model_module_version": "1.5.0",
            "_model_name": "HTMLModel",
            "_view_count": null,
            "_view_module": "@jupyter-widgets/controls",
            "_view_module_version": "1.5.0",
            "_view_name": "HTMLView",
            "description": "",
            "description_tooltip": null,
            "layout": "IPY_MODEL_9314c4fc236b489ea57aa77627dcfd85",
            "placeholder": "​",
            "style": "IPY_MODEL_f9c0400663dc4332bc1194773b61401f",
            "value": "100%"
          }
        },
        "d5672a4885ae4c4184f7e020bd5c30b8": {
          "model_module": "@jupyter-widgets/controls",
          "model_name": "FloatProgressModel",
          "model_module_version": "1.5.0",
          "state": {
            "_dom_classes": [],
            "_model_module": "@jupyter-widgets/controls",
            "_model_module_version": "1.5.0",
            "_model_name": "FloatProgressModel",
            "_view_count": null,
            "_view_module": "@jupyter-widgets/controls",
            "_view_module_version": "1.5.0",
            "_view_name": "ProgressView",
            "bar_style": "success",
            "description": "",
            "description_tooltip": null,
            "layout": "IPY_MODEL_51340beb7bb546afad67cc4f5a1432ba",
            "max": 3,
            "min": 0,
            "orientation": "horizontal",
            "style": "IPY_MODEL_d07649426b68437d94b976c2a1daf7de",
            "value": 3
          }
        },
        "95645438a6b649cb93f4bb4b0686f337": {
          "model_module": "@jupyter-widgets/controls",
          "model_name": "HTMLModel",
          "model_module_version": "1.5.0",
          "state": {
            "_dom_classes": [],
            "_model_module": "@jupyter-widgets/controls",
            "_model_module_version": "1.5.0",
            "_model_name": "HTMLModel",
            "_view_count": null,
            "_view_module": "@jupyter-widgets/controls",
            "_view_module_version": "1.5.0",
            "_view_name": "HTMLView",
            "description": "",
            "description_tooltip": null,
            "layout": "IPY_MODEL_4952f101b91746998a745d377e36e650",
            "placeholder": "​",
            "style": "IPY_MODEL_9f59a8e87619454d93333e48241328da",
            "value": " 3/3 [00:01&lt;00:00,  2.48it/s]"
          }
        },
        "b93fda2888b9409a952238e0df689165": {
          "model_module": "@jupyter-widgets/base",
          "model_name": "LayoutModel",
          "model_module_version": "1.2.0",
          "state": {
            "_model_module": "@jupyter-widgets/base",
            "_model_module_version": "1.2.0",
            "_model_name": "LayoutModel",
            "_view_count": null,
            "_view_module": "@jupyter-widgets/base",
            "_view_module_version": "1.2.0",
            "_view_name": "LayoutView",
            "align_content": null,
            "align_items": null,
            "align_self": null,
            "border": null,
            "bottom": null,
            "display": null,
            "flex": null,
            "flex_flow": null,
            "grid_area": null,
            "grid_auto_columns": null,
            "grid_auto_flow": null,
            "grid_auto_rows": null,
            "grid_column": null,
            "grid_gap": null,
            "grid_row": null,
            "grid_template_areas": null,
            "grid_template_columns": null,
            "grid_template_rows": null,
            "height": null,
            "justify_content": null,
            "justify_items": null,
            "left": null,
            "margin": null,
            "max_height": null,
            "max_width": null,
            "min_height": null,
            "min_width": null,
            "object_fit": null,
            "object_position": null,
            "order": null,
            "overflow": null,
            "overflow_x": null,
            "overflow_y": null,
            "padding": null,
            "right": null,
            "top": null,
            "visibility": null,
            "width": null
          }
        },
        "9314c4fc236b489ea57aa77627dcfd85": {
          "model_module": "@jupyter-widgets/base",
          "model_name": "LayoutModel",
          "model_module_version": "1.2.0",
          "state": {
            "_model_module": "@jupyter-widgets/base",
            "_model_module_version": "1.2.0",
            "_model_name": "LayoutModel",
            "_view_count": null,
            "_view_module": "@jupyter-widgets/base",
            "_view_module_version": "1.2.0",
            "_view_name": "LayoutView",
            "align_content": null,
            "align_items": null,
            "align_self": null,
            "border": null,
            "bottom": null,
            "display": null,
            "flex": null,
            "flex_flow": null,
            "grid_area": null,
            "grid_auto_columns": null,
            "grid_auto_flow": null,
            "grid_auto_rows": null,
            "grid_column": null,
            "grid_gap": null,
            "grid_row": null,
            "grid_template_areas": null,
            "grid_template_columns": null,
            "grid_template_rows": null,
            "height": null,
            "justify_content": null,
            "justify_items": null,
            "left": null,
            "margin": null,
            "max_height": null,
            "max_width": null,
            "min_height": null,
            "min_width": null,
            "object_fit": null,
            "object_position": null,
            "order": null,
            "overflow": null,
            "overflow_x": null,
            "overflow_y": null,
            "padding": null,
            "right": null,
            "top": null,
            "visibility": null,
            "width": null
          }
        },
        "f9c0400663dc4332bc1194773b61401f": {
          "model_module": "@jupyter-widgets/controls",
          "model_name": "DescriptionStyleModel",
          "model_module_version": "1.5.0",
          "state": {
            "_model_module": "@jupyter-widgets/controls",
            "_model_module_version": "1.5.0",
            "_model_name": "DescriptionStyleModel",
            "_view_count": null,
            "_view_module": "@jupyter-widgets/base",
            "_view_module_version": "1.2.0",
            "_view_name": "StyleView",
            "description_width": ""
          }
        },
        "51340beb7bb546afad67cc4f5a1432ba": {
          "model_module": "@jupyter-widgets/base",
          "model_name": "LayoutModel",
          "model_module_version": "1.2.0",
          "state": {
            "_model_module": "@jupyter-widgets/base",
            "_model_module_version": "1.2.0",
            "_model_name": "LayoutModel",
            "_view_count": null,
            "_view_module": "@jupyter-widgets/base",
            "_view_module_version": "1.2.0",
            "_view_name": "LayoutView",
            "align_content": null,
            "align_items": null,
            "align_self": null,
            "border": null,
            "bottom": null,
            "display": null,
            "flex": null,
            "flex_flow": null,
            "grid_area": null,
            "grid_auto_columns": null,
            "grid_auto_flow": null,
            "grid_auto_rows": null,
            "grid_column": null,
            "grid_gap": null,
            "grid_row": null,
            "grid_template_areas": null,
            "grid_template_columns": null,
            "grid_template_rows": null,
            "height": null,
            "justify_content": null,
            "justify_items": null,
            "left": null,
            "margin": null,
            "max_height": null,
            "max_width": null,
            "min_height": null,
            "min_width": null,
            "object_fit": null,
            "object_position": null,
            "order": null,
            "overflow": null,
            "overflow_x": null,
            "overflow_y": null,
            "padding": null,
            "right": null,
            "top": null,
            "visibility": null,
            "width": null
          }
        },
        "d07649426b68437d94b976c2a1daf7de": {
          "model_module": "@jupyter-widgets/controls",
          "model_name": "ProgressStyleModel",
          "model_module_version": "1.5.0",
          "state": {
            "_model_module": "@jupyter-widgets/controls",
            "_model_module_version": "1.5.0",
            "_model_name": "ProgressStyleModel",
            "_view_count": null,
            "_view_module": "@jupyter-widgets/base",
            "_view_module_version": "1.2.0",
            "_view_name": "StyleView",
            "bar_color": null,
            "description_width": ""
          }
        },
        "4952f101b91746998a745d377e36e650": {
          "model_module": "@jupyter-widgets/base",
          "model_name": "LayoutModel",
          "model_module_version": "1.2.0",
          "state": {
            "_model_module": "@jupyter-widgets/base",
            "_model_module_version": "1.2.0",
            "_model_name": "LayoutModel",
            "_view_count": null,
            "_view_module": "@jupyter-widgets/base",
            "_view_module_version": "1.2.0",
            "_view_name": "LayoutView",
            "align_content": null,
            "align_items": null,
            "align_self": null,
            "border": null,
            "bottom": null,
            "display": null,
            "flex": null,
            "flex_flow": null,
            "grid_area": null,
            "grid_auto_columns": null,
            "grid_auto_flow": null,
            "grid_auto_rows": null,
            "grid_column": null,
            "grid_gap": null,
            "grid_row": null,
            "grid_template_areas": null,
            "grid_template_columns": null,
            "grid_template_rows": null,
            "height": null,
            "justify_content": null,
            "justify_items": null,
            "left": null,
            "margin": null,
            "max_height": null,
            "max_width": null,
            "min_height": null,
            "min_width": null,
            "object_fit": null,
            "object_position": null,
            "order": null,
            "overflow": null,
            "overflow_x": null,
            "overflow_y": null,
            "padding": null,
            "right": null,
            "top": null,
            "visibility": null,
            "width": null
          }
        },
        "9f59a8e87619454d93333e48241328da": {
          "model_module": "@jupyter-widgets/controls",
          "model_name": "DescriptionStyleModel",
          "model_module_version": "1.5.0",
          "state": {
            "_model_module": "@jupyter-widgets/controls",
            "_model_module_version": "1.5.0",
            "_model_name": "DescriptionStyleModel",
            "_view_count": null,
            "_view_module": "@jupyter-widgets/base",
            "_view_module_version": "1.2.0",
            "_view_name": "StyleView",
            "description_width": ""
          }
        },
        "df9f35cd736f4aef9f8c91e58b93b859": {
          "model_module": "@jupyter-widgets/controls",
          "model_name": "HBoxModel",
          "model_module_version": "1.5.0",
          "state": {
            "_dom_classes": [],
            "_model_module": "@jupyter-widgets/controls",
            "_model_module_version": "1.5.0",
            "_model_name": "HBoxModel",
            "_view_count": null,
            "_view_module": "@jupyter-widgets/controls",
            "_view_module_version": "1.5.0",
            "_view_name": "HBoxView",
            "box_style": "",
            "children": [
              "IPY_MODEL_482130c3590f455ba1696f81531ce1e9",
              "IPY_MODEL_95246493453e402fa4ada98ed3640035",
              "IPY_MODEL_b9eab4e9fae54b63bee80f8e20160ce1"
            ],
            "layout": "IPY_MODEL_07a0a13f54bb4c4a9170d45d3eb2f7c8"
          }
        },
        "482130c3590f455ba1696f81531ce1e9": {
          "model_module": "@jupyter-widgets/controls",
          "model_name": "HTMLModel",
          "model_module_version": "1.5.0",
          "state": {
            "_dom_classes": [],
            "_model_module": "@jupyter-widgets/controls",
            "_model_module_version": "1.5.0",
            "_model_name": "HTMLModel",
            "_view_count": null,
            "_view_module": "@jupyter-widgets/controls",
            "_view_module_version": "1.5.0",
            "_view_name": "HTMLView",
            "description": "",
            "description_tooltip": null,
            "layout": "IPY_MODEL_4d24865bbbce4454b3d2ff956bea0693",
            "placeholder": "​",
            "style": "IPY_MODEL_c2d92eb7f1a24c708d29db26fd777f1c",
            "value": "100%"
          }
        },
        "95246493453e402fa4ada98ed3640035": {
          "model_module": "@jupyter-widgets/controls",
          "model_name": "FloatProgressModel",
          "model_module_version": "1.5.0",
          "state": {
            "_dom_classes": [],
            "_model_module": "@jupyter-widgets/controls",
            "_model_module_version": "1.5.0",
            "_model_name": "FloatProgressModel",
            "_view_count": null,
            "_view_module": "@jupyter-widgets/controls",
            "_view_module_version": "1.5.0",
            "_view_name": "ProgressView",
            "bar_style": "success",
            "description": "",
            "description_tooltip": null,
            "layout": "IPY_MODEL_cb363e394a684aaca4d2b1584bbf8699",
            "max": 100,
            "min": 0,
            "orientation": "horizontal",
            "style": "IPY_MODEL_18356abff4d849c390a9ce6e6388c522",
            "value": 100
          }
        },
        "b9eab4e9fae54b63bee80f8e20160ce1": {
          "model_module": "@jupyter-widgets/controls",
          "model_name": "HTMLModel",
          "model_module_version": "1.5.0",
          "state": {
            "_dom_classes": [],
            "_model_module": "@jupyter-widgets/controls",
            "_model_module_version": "1.5.0",
            "_model_name": "HTMLModel",
            "_view_count": null,
            "_view_module": "@jupyter-widgets/controls",
            "_view_module_version": "1.5.0",
            "_view_name": "HTMLView",
            "description": "",
            "description_tooltip": null,
            "layout": "IPY_MODEL_e551cbaac4ed418baba12be75e923d34",
            "placeholder": "​",
            "style": "IPY_MODEL_4b0e7de8d2be45c9ab026d48ab3dd26e",
            "value": " 100/100 [00:13&lt;00:00,  7.50it/s]"
          }
        },
        "07a0a13f54bb4c4a9170d45d3eb2f7c8": {
          "model_module": "@jupyter-widgets/base",
          "model_name": "LayoutModel",
          "model_module_version": "1.2.0",
          "state": {
            "_model_module": "@jupyter-widgets/base",
            "_model_module_version": "1.2.0",
            "_model_name": "LayoutModel",
            "_view_count": null,
            "_view_module": "@jupyter-widgets/base",
            "_view_module_version": "1.2.0",
            "_view_name": "LayoutView",
            "align_content": null,
            "align_items": null,
            "align_self": null,
            "border": null,
            "bottom": null,
            "display": null,
            "flex": null,
            "flex_flow": null,
            "grid_area": null,
            "grid_auto_columns": null,
            "grid_auto_flow": null,
            "grid_auto_rows": null,
            "grid_column": null,
            "grid_gap": null,
            "grid_row": null,
            "grid_template_areas": null,
            "grid_template_columns": null,
            "grid_template_rows": null,
            "height": null,
            "justify_content": null,
            "justify_items": null,
            "left": null,
            "margin": null,
            "max_height": null,
            "max_width": null,
            "min_height": null,
            "min_width": null,
            "object_fit": null,
            "object_position": null,
            "order": null,
            "overflow": null,
            "overflow_x": null,
            "overflow_y": null,
            "padding": null,
            "right": null,
            "top": null,
            "visibility": null,
            "width": null
          }
        },
        "4d24865bbbce4454b3d2ff956bea0693": {
          "model_module": "@jupyter-widgets/base",
          "model_name": "LayoutModel",
          "model_module_version": "1.2.0",
          "state": {
            "_model_module": "@jupyter-widgets/base",
            "_model_module_version": "1.2.0",
            "_model_name": "LayoutModel",
            "_view_count": null,
            "_view_module": "@jupyter-widgets/base",
            "_view_module_version": "1.2.0",
            "_view_name": "LayoutView",
            "align_content": null,
            "align_items": null,
            "align_self": null,
            "border": null,
            "bottom": null,
            "display": null,
            "flex": null,
            "flex_flow": null,
            "grid_area": null,
            "grid_auto_columns": null,
            "grid_auto_flow": null,
            "grid_auto_rows": null,
            "grid_column": null,
            "grid_gap": null,
            "grid_row": null,
            "grid_template_areas": null,
            "grid_template_columns": null,
            "grid_template_rows": null,
            "height": null,
            "justify_content": null,
            "justify_items": null,
            "left": null,
            "margin": null,
            "max_height": null,
            "max_width": null,
            "min_height": null,
            "min_width": null,
            "object_fit": null,
            "object_position": null,
            "order": null,
            "overflow": null,
            "overflow_x": null,
            "overflow_y": null,
            "padding": null,
            "right": null,
            "top": null,
            "visibility": null,
            "width": null
          }
        },
        "c2d92eb7f1a24c708d29db26fd777f1c": {
          "model_module": "@jupyter-widgets/controls",
          "model_name": "DescriptionStyleModel",
          "model_module_version": "1.5.0",
          "state": {
            "_model_module": "@jupyter-widgets/controls",
            "_model_module_version": "1.5.0",
            "_model_name": "DescriptionStyleModel",
            "_view_count": null,
            "_view_module": "@jupyter-widgets/base",
            "_view_module_version": "1.2.0",
            "_view_name": "StyleView",
            "description_width": ""
          }
        },
        "cb363e394a684aaca4d2b1584bbf8699": {
          "model_module": "@jupyter-widgets/base",
          "model_name": "LayoutModel",
          "model_module_version": "1.2.0",
          "state": {
            "_model_module": "@jupyter-widgets/base",
            "_model_module_version": "1.2.0",
            "_model_name": "LayoutModel",
            "_view_count": null,
            "_view_module": "@jupyter-widgets/base",
            "_view_module_version": "1.2.0",
            "_view_name": "LayoutView",
            "align_content": null,
            "align_items": null,
            "align_self": null,
            "border": null,
            "bottom": null,
            "display": null,
            "flex": null,
            "flex_flow": null,
            "grid_area": null,
            "grid_auto_columns": null,
            "grid_auto_flow": null,
            "grid_auto_rows": null,
            "grid_column": null,
            "grid_gap": null,
            "grid_row": null,
            "grid_template_areas": null,
            "grid_template_columns": null,
            "grid_template_rows": null,
            "height": null,
            "justify_content": null,
            "justify_items": null,
            "left": null,
            "margin": null,
            "max_height": null,
            "max_width": null,
            "min_height": null,
            "min_width": null,
            "object_fit": null,
            "object_position": null,
            "order": null,
            "overflow": null,
            "overflow_x": null,
            "overflow_y": null,
            "padding": null,
            "right": null,
            "top": null,
            "visibility": null,
            "width": null
          }
        },
        "18356abff4d849c390a9ce6e6388c522": {
          "model_module": "@jupyter-widgets/controls",
          "model_name": "ProgressStyleModel",
          "model_module_version": "1.5.0",
          "state": {
            "_model_module": "@jupyter-widgets/controls",
            "_model_module_version": "1.5.0",
            "_model_name": "ProgressStyleModel",
            "_view_count": null,
            "_view_module": "@jupyter-widgets/base",
            "_view_module_version": "1.2.0",
            "_view_name": "StyleView",
            "bar_color": null,
            "description_width": ""
          }
        },
        "e551cbaac4ed418baba12be75e923d34": {
          "model_module": "@jupyter-widgets/base",
          "model_name": "LayoutModel",
          "model_module_version": "1.2.0",
          "state": {
            "_model_module": "@jupyter-widgets/base",
            "_model_module_version": "1.2.0",
            "_model_name": "LayoutModel",
            "_view_count": null,
            "_view_module": "@jupyter-widgets/base",
            "_view_module_version": "1.2.0",
            "_view_name": "LayoutView",
            "align_content": null,
            "align_items": null,
            "align_self": null,
            "border": null,
            "bottom": null,
            "display": null,
            "flex": null,
            "flex_flow": null,
            "grid_area": null,
            "grid_auto_columns": null,
            "grid_auto_flow": null,
            "grid_auto_rows": null,
            "grid_column": null,
            "grid_gap": null,
            "grid_row": null,
            "grid_template_areas": null,
            "grid_template_columns": null,
            "grid_template_rows": null,
            "height": null,
            "justify_content": null,
            "justify_items": null,
            "left": null,
            "margin": null,
            "max_height": null,
            "max_width": null,
            "min_height": null,
            "min_width": null,
            "object_fit": null,
            "object_position": null,
            "order": null,
            "overflow": null,
            "overflow_x": null,
            "overflow_y": null,
            "padding": null,
            "right": null,
            "top": null,
            "visibility": null,
            "width": null
          }
        },
        "4b0e7de8d2be45c9ab026d48ab3dd26e": {
          "model_module": "@jupyter-widgets/controls",
          "model_name": "DescriptionStyleModel",
          "model_module_version": "1.5.0",
          "state": {
            "_model_module": "@jupyter-widgets/controls",
            "_model_module_version": "1.5.0",
            "_model_name": "DescriptionStyleModel",
            "_view_count": null,
            "_view_module": "@jupyter-widgets/base",
            "_view_module_version": "1.2.0",
            "_view_name": "StyleView",
            "description_width": ""
          }
        }
      }
    }
  },
  "nbformat": 4,
  "nbformat_minor": 5
}