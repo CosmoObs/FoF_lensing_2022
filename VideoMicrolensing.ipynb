{
 "cells": [
  {
   "cell_type": "markdown",
   "metadata": {},
   "source": [
    "# Microlensing GIF\n",
    "\n",
    "Notebook in Python 3 to create an animated gif of light curves from microlensing events of pontual sources by a pontual lens.\n",
    "\n",
    "*By: Giulya Souza - IF/UFRJ, RJ - Brazil.*\n",
    "\n",
    "*giulyasouzadossantos@gmail.com*"
   ]
  },
  {
   "cell_type": "code",
   "execution_count": 7,
   "metadata": {},
   "outputs": [],
   "source": [
    "#importing libraries\n",
    "import numpy as np\n",
    "import matplotlib.pyplot as plt\n",
    "from matplotlib.patches import Circle\n",
    "import os"
   ]
  },
  {
   "cell_type": "code",
   "execution_count": 8,
   "metadata": {},
   "outputs": [],
   "source": [
    "#magnification function for pontual lens & source\n",
    "@np.vectorize\n",
    "def magnification_pontualsource(u):\n",
    "    u = np.abs(u)\n",
    "    return (u**2 + 2)/(u*np.sqrt(u**2 + 4))\n",
    "\n",
    "#source in uniform motion relative to the lens\n",
    "def source_position(umin, t):\n",
    "    return np.sqrt(umin**2 + t**2)"
   ]
  },
  {
   "cell_type": "markdown",
   "metadata": {},
   "source": [
    "Test cell:"
   ]
  },
  {
   "cell_type": "code",
   "execution_count": 9,
   "metadata": {},
   "outputs": [
    {
     "data": {
      "image/png": "[encoded data removed]",
      "text/plain": [
       "<Figure size 504x576 with 2 Axes>"
      ]
     },
     "metadata": {
      "needs_background": "light"
     },
     "output_type": "display_data"
    }
   ],
   "source": [
    "#example parameters\n",
    "\n",
    "umin = [0.7, 0.5, 0.3, 0.1, 0]\n",
    "xmin = -2 #start point\n",
    "xmax = 0.5 #end point\n",
    "X = np.linspace(xmin, xmax, 200)\n",
    "\n",
    "einstein_ring = plt.Circle((0, 0), 1, color='black', fill=False) #unitary circle centered at the origin\n",
    "\n",
    "color = ['blue', 'orange', 'green', 'purple', 'red']\n",
    "\n",
    "#------------------------- PLOT --------------------------------\n",
    "\n",
    "fig = plt.subplots(figsize=(7,8))\n",
    "plot1 = plt.subplot2grid((5,3), (0,0), colspan=3, rowspan=3) #source position in the lens plan \n",
    "plot2 = plt.subplot2grid((5,3), (3,0), colspan=3, rowspan=2) #light curve\n",
    "\n",
    "plot1.add_patch(einstein_ring)\n",
    "plot1.hlines(-7, -8, -7, color='black', label='Einstein Ring')\n",
    "plot1.plot([0], [0],'.', color='black', label='Lens')\n",
    "plot1.plot([xmax], [umin[3]],\"*\", color=color[3], markersize = 15)\n",
    "plot1.hlines(umin[3], xmin, xmax, color=color[3], label=r'$u = {}$'.format(umin[3]))\n",
    "plot1.legend(fancybox=True, shadow=True, fontsize=11, loc='upper right', bbox_to_anchor=(1.33,1))\n",
    "plot1.grid(True)\n",
    "plot1.set_ylim([-1.3,1.3])\n",
    "plot1.set_xlim([-2,2])\n",
    "plot1.tick_params(axis='x', colors='None')\n",
    "#------------------\n",
    "plot2.plot(X,  magnification_pontualsource(source_position(umin[3], X)), color=color[3])\n",
    "plot2.grid(True)\n",
    "plot2.set_ylim([0,12])\n",
    "plot2.set_xlim([-2,2])\n",
    "\n",
    "plt.show()"
   ]
  },
  {
   "cell_type": "markdown",
   "metadata": {},
   "source": [
    "Creating the frames of the GIF:\n",
    "\n",
    "(*40 frames will be created*)"
   ]
  },
  {
   "cell_type": "code",
   "execution_count": 27,
   "metadata": {},
   "outputs": [],
   "source": [
    "#defaut parameters\n",
    "umin = [1, 0.7, 0.3, 0.1, 0]\n",
    "xmin = -2\n",
    "xmax = -2\n",
    "i=0\n",
    "\n",
    "color = ['blue', 'orange', 'green', 'purple', 'red']\n",
    "\n",
    "#creating a directory called 'gifframes' where all the frames will be placed\n",
    "gif_dir='gifframes'\n",
    "work_dir=os.getcwd()\n",
    "path_gif=os.path.join(work_dir,gif_dir)\n",
    "\n",
    "#changing to that directory\n",
    "os.chdir(work_dir)\n",
    "\n",
    "#frame creation loop\n",
    "while xmax<=2:\n",
    "\n",
    "    X = np.linspace(xmin, xmax, 200)\n",
    "    \n",
    "    einstein_ring = plt.Circle((0, 0), 1, color='black', fill=False)\n",
    "        \n",
    "    fig = plt.subplots(figsize=(7,8))\n",
    "    plot1 = plt.subplot2grid((5,3), (0,0), colspan=3, rowspan=3)\n",
    "    plot2 = plt.subplot2grid((5,3), (3,0), colspan=3, rowspan=2)\n",
    "    #-----------------\n",
    "    plot1.add_patch(einstein_ring)\n",
    "    plot1.hlines(-7, -8, -7, color='black', label='Einstein Ring')\n",
    "    plot1.plot([0], [0],'.', color='black', label='Lens')\n",
    "    plot1.plot([xmax], [umin[0]],\"*\", color=color[0], markersize = 15)\n",
    "    plot1.hlines(umin[0], xmin, xmax, color=color[0], label=r'$u = {}$'.format(umin[0]))\n",
    "    plot1.plot([xmax], [umin[1]],\"*\", color=color[1], markersize = 15)\n",
    "    plot1.hlines(umin[1], xmin, xmax, color=color[1], label=r'$u = {}$'.format(umin[1]))\n",
    "    plot1.plot([xmax], [umin[2]],\"*\", color=color[2], markersize = 15)\n",
    "    plot1.hlines(umin[2], xmin, xmax, color=color[2], label=r'$u = {}$'.format(umin[2]))\n",
    "    plot1.plot([xmax], [umin[3]],\"*\", color=color[3], markersize = 15)\n",
    "    plot1.hlines(umin[3], xmin, xmax, color=color[3], label=r'$u = {}$'.format(umin[3]))\n",
    "    plot1.plot([xmax], [umin[4]],\"*\", color=color[4], markersize = 15)\n",
    "    plot1.hlines(umin[4], xmin, xmax, color=color[4], label=r'$u = {}$'.format(umin[4]))\n",
    "    plot1.legend(fancybox=True, shadow=True, fontsize=11, loc='upper right', bbox_to_anchor=(1.33,1))\n",
    "    plot1.grid(True)\n",
    "    plot1.set_ylim([-1.3,1.3])\n",
    "    plot1.set_xlim([-2,2])\n",
    "    plot1.tick_params(axis='x', colors='None')\n",
    "    #------------------\n",
    "    plot2.plot(X,  magnification_pontualsource(source_position(umin[0], X)), color=color[0])\n",
    "    plot2.plot(X,  magnification_pontualsource(source_position(umin[1], X)), color=color[1])\n",
    "    plot2.plot(X,  magnification_pontualsource(source_position(umin[2], X)), color=color[2])\n",
    "    plot2.plot(X,  magnification_pontualsource(source_position(umin[3], X)), color=color[3])\n",
    "    plot2.plot(X,  magnification_pontualsource(source_position(umin[4], X)), color=color[4])\n",
    "    plot2.grid(True)\n",
    "    plot2.set_ylim([0,12])\n",
    "    plot2.set_xlim([-2,2])\n",
    "\n",
    "    #-------------------\n",
    "    if i<10:\n",
    "        savename='gifframe0'+str(i)+'.png'\n",
    "    else:\n",
    "        savename='gifframe'+str(i)+'.png'\n",
    "\n",
    "    #all the 40 frames will be saved in gifframes directory   \n",
    "    plt.savefig(savename, bbox_inches='tight', dpi=90)\n",
    "    plt.clf()\n",
    "    plt.cla()\n",
    "    plt.close('all')\n",
    "    \n",
    "    xmax+=0.1\n",
    "    i+=1\n"
   ]
  },
  {
   "cell_type": "markdown",
   "metadata": {},
   "source": [
    "Compiling the frames in a video to generate the GIF:"
   ]
  },
  {
   "cell_type": "code",
   "execution_count": 32,
   "metadata": {},
   "outputs": [],
   "source": [
    "import imageio\n",
    "import natsort\n",
    "\n",
    "video = []\n",
    "here = os.getcwd() \n",
    "\n",
    "for frame in natsort.natsorted(os.listdir(here)):\n",
    "\n",
    "    #we add to the list only the files in the directory that start with 'gif':\n",
    "    if frame[:3]=='gif':\n",
    "        video.append(imageio.imread(frame))\n",
    "\n",
    "imageio.mimsave(here+'/VIDEOMICROLENSING.gif', video)"
   ]
  }
 ],
 "metadata": {
  "interpreter": {
   "hash": "7b6c9067fb5753f4399fe1d2d5e1d49ed468511007ce63d1228ee700d68308be"
  },
  "kernelspec": {
   "display_name": "Python 3.8.5 ('base')",
   "language": "python",
   "name": "python3"
  },
  "language_info": {
   "codemirror_mode": {
    "name": "ipython",
    "version": 3
   },
   "file_extension": ".py",
   "mimetype": "text/x-python",
   "name": "python",
   "nbconvert_exporter": "python",
   "pygments_lexer": "ipython3",
   "version": "3.8.5"
  },
  "orig_nbformat": 4
 },
 "nbformat": 4,
 "nbformat_minor": 2
}
